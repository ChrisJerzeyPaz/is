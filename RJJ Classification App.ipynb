{
  "cells": [
    {
      "cell_type": "code",
      "execution_count": 1,
      "metadata": {
        "colab": {
          "base_uri": "https://localhost:8080/"
        },
        "id": "wl9bZS1tm2zN",
        "outputId": "61e48c88-0d92-4933-e3b1-a83da49a4c65"
      },
      "outputs": [
        {
          "name": "stdout",
          "output_type": "stream",
          "text": [
            "       A      P       C     LK     WK  A_Coef    LKG  target\n",
            "0  15.26  14.84  0.8710  5.763  3.312   2.221  5.220       0\n",
            "1  14.88  14.57  0.8811  5.554  3.333   1.018  4.956       0\n",
            "2  14.29  14.09  0.9050  5.291  3.337   2.699  4.825       0\n",
            "3  13.84  13.94  0.8955  5.324  3.379   2.259  4.805       0\n",
            "4  16.14  14.99  0.9034  5.658  3.562   1.355  5.175       0\n",
            "<class 'pandas.core.frame.DataFrame'>\n",
            "RangeIndex: 210 entries, 0 to 209\n",
            "Data columns (total 8 columns):\n",
            " #   Column  Non-Null Count  Dtype  \n",
            "---  ------  --------------  -----  \n",
            " 0   A       210 non-null    float64\n",
            " 1   P       210 non-null    float64\n",
            " 2   C       210 non-null    float64\n",
            " 3   LK      210 non-null    float64\n",
            " 4   WK      210 non-null    float64\n",
            " 5   A_Coef  210 non-null    float64\n",
            " 6   LKG     210 non-null    float64\n",
            " 7   target  210 non-null    int64  \n",
            "dtypes: float64(7), int64(1)\n",
            "memory usage: 13.3 KB\n",
            "None\n",
            "Accuracy: 0.88\n",
            "Confusion Matrix:\n",
            "[[ 9  0  2]\n",
            " [ 0 14  0]\n",
            " [ 3  0 14]]\n",
            "\n",
            "Classification Report:\n",
            "              precision    recall  f1-score   support\n",
            "\n",
            "           0       0.75      0.82      0.78        11\n",
            "           1       1.00      1.00      1.00        14\n",
            "           2       0.88      0.82      0.85        17\n",
            "\n",
            "    accuracy                           0.88        42\n",
            "   macro avg       0.88      0.88      0.88        42\n",
            "weighted avg       0.88      0.88      0.88        42\n",
            "\n"
          ]
        }
      ],
      "source": [
        "# Import necessary libraries\n",
        "import pandas as pd\n",
        "import numpy as np\n",
        "import matplotlib.pyplot as plt\n",
        "import seaborn as sns\n",
        "import pickle\n",
        "from sklearn.model_selection import train_test_split\n",
        "from sklearn.preprocessing import StandardScaler\n",
        "from sklearn.neighbors import KNeighborsClassifier\n",
        "from sklearn.metrics import accuracy_score, confusion_matrix, classification_report\n",
        "\n",
        "# Load the dataset\n",
        "data = pd.read_csv('Seed_Data.csv')\n",
        "\n",
        "# Display basic info about the dataset\n",
        "print(data.head())  # Display the first few rows\n",
        "print(data.info())  # Display information about columns and data types\n",
        "\n",
        "# Separate features (X) and target (y)\n",
        "X = data.drop('target', axis=1)  # Features\n",
        "y = data['target']  # Target\n",
        "\n",
        "# Split the dataset into training and testing sets\n",
        "X_train, X_test, y_train, y_test = train_test_split(X, y, test_size=0.2, random_state=42)\n",
        "\n",
        "# Standardize the features (important for KNN)\n",
        "scaler = StandardScaler()\n",
        "X_train_scaled = scaler.fit_transform(X_train)\n",
        "X_test_scaled = scaler.transform(X_test)\n",
        "\n",
        "# Initialize the KNN classifier\n",
        "k = 5  # Choose the number of neighbors (you can experiment with different values)\n",
        "knn = KNeighborsClassifier(n_neighbors=k)\n",
        "\n",
        "# Train the KNN classifier\n",
        "knn.fit(X_train_scaled, y_train)\n",
        "\n",
        "# Predict using the trained model\n",
        "y_pred = knn.predict(X_test_scaled)\n",
        "\n",
        "# Evaluate the model\n",
        "accuracy = accuracy_score(y_test, y_pred)\n",
        "print(f'Accuracy: {accuracy:.2f}')\n",
        "\n",
        "# Display confusion matrix and classification report\n",
        "print('Confusion Matrix:')\n",
        "print(confusion_matrix(y_test, y_pred))\n",
        "print('\\nClassification Report:')\n",
        "print(classification_report(y_test, y_pred))\n",
        "\n",
        "# Optional: Visualize results (e.g., plot decision boundaries for 2D data)\n",
        "# Note: This is a basic example and assumes you have only a subset of features for visualization\n",
        "if X_train.shape[1] == 2:\n",
        "    # Plot decision boundaries\n",
        "    sns.set_style('white')\n",
        "    h = .02  # Step size in the mesh\n",
        "    x_min, x_max = X_train.iloc[:, 0].min() - 1, X_train.iloc[:, 0].max() + 1\n",
        "    y_min, y_max = X_train.iloc[:, 1].min() - 1, X_train.iloc[:, 1].max() + 1\n",
        "    xx, yy = np.meshgrid(np.arange(x_min, x_max, h), np.arange(y_min, y_max, h))\n",
        "    Z = knn.predict(np.c_[xx.ravel(), yy.ravel()])\n",
        "    Z = Z.reshape(xx.shape)\n",
        "    plt.figure()\n",
        "    plt.contourf(xx, yy, Z, cmap=plt.cm.Paired, alpha=0.8)\n",
        "    plt.scatter(X_train.iloc[:, 0], X_train.iloc[:, 1], c=y_train, cmap=plt.cm.Paired)\n",
        "    plt.xlabel(X_train.columns[0])\n",
        "    plt.ylabel(X_train.columns[1])\n",
        "    plt.title(f'KNN (k={k}) Decision Boundaries')\n",
        "    plt.show()\n"
      ]
    },
    {
      "cell_type": "code",
      "execution_count": 2,
      "metadata": {},
      "outputs": [],
      "source": [
        "with open('RJJ.pkl', 'wb') as f:\n",
        "    pickle.dump(knn, f)"
      ]
    },
    {
      "cell_type": "code",
      "execution_count": null,
      "metadata": {},
      "outputs": [],
      "source": []
    }
  ],
  "metadata": {
    "colab": {
      "provenance": []
    },
    "kernelspec": {
      "display_name": "Python 3",
      "name": "python3"
    },
    "language_info": {
      "codemirror_mode": {
        "name": "ipython",
        "version": 3
      },
      "file_extension": ".py",
      "mimetype": "text/x-python",
      "name": "python",
      "nbconvert_exporter": "python",
      "pygments_lexer": "ipython3",
      "version": "3.11.5"
    }
  },
  "nbformat": 4,
  "nbformat_minor": 0
}
